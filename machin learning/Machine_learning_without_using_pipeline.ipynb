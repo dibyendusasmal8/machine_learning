{
 "cells": [
  {
   "cell_type": "markdown",
   "id": "d0599749",
   "metadata": {},
   "source": [
    "# 1.With out using pipeline "
   ]
  },
  {
   "cell_type": "code",
   "execution_count": 1,
   "id": "e17686fe",
   "metadata": {},
   "outputs": [],
   "source": [
    "import numpy as np \n",
    "import pandas as pd "
   ]
  },
  {
   "cell_type": "code",
   "execution_count": 2,
   "id": "edc631eb",
   "metadata": {},
   "outputs": [],
   "source": [
    "tdf = pd.read_csv(r\"C:\\Users\\HP\\Desktop\\data\\titani1.csv\")"
   ]
  },
  {
   "cell_type": "code",
   "execution_count": 3,
   "id": "9290425c",
   "metadata": {},
   "outputs": [
    {
     "data": {
      "text/html": [
       "<div>\n",
       "<style scoped>\n",
       "    .dataframe tbody tr th:only-of-type {\n",
       "        vertical-align: middle;\n",
       "    }\n",
       "\n",
       "    .dataframe tbody tr th {\n",
       "        vertical-align: top;\n",
       "    }\n",
       "\n",
       "    .dataframe thead th {\n",
       "        text-align: right;\n",
       "    }\n",
       "</style>\n",
       "<table border=\"1\" class=\"dataframe\">\n",
       "  <thead>\n",
       "    <tr style=\"text-align: right;\">\n",
       "      <th></th>\n",
       "      <th>PassengerId</th>\n",
       "      <th>Survived</th>\n",
       "      <th>Pclass</th>\n",
       "      <th>Name</th>\n",
       "      <th>Sex</th>\n",
       "      <th>Age</th>\n",
       "      <th>SibSp</th>\n",
       "      <th>Parch</th>\n",
       "      <th>Ticket</th>\n",
       "      <th>Fare</th>\n",
       "      <th>Cabin</th>\n",
       "      <th>Embarked</th>\n",
       "    </tr>\n",
       "  </thead>\n",
       "  <tbody>\n",
       "    <tr>\n",
       "      <th>246</th>\n",
       "      <td>247</td>\n",
       "      <td>0</td>\n",
       "      <td>3</td>\n",
       "      <td>Lindahl, Miss. Agda Thorilda Viktoria</td>\n",
       "      <td>female</td>\n",
       "      <td>25.0</td>\n",
       "      <td>0</td>\n",
       "      <td>0</td>\n",
       "      <td>347071</td>\n",
       "      <td>7.775</td>\n",
       "      <td>NaN</td>\n",
       "      <td>S</td>\n",
       "    </tr>\n",
       "    <tr>\n",
       "      <th>196</th>\n",
       "      <td>197</td>\n",
       "      <td>0</td>\n",
       "      <td>3</td>\n",
       "      <td>Mernagh, Mr. Robert</td>\n",
       "      <td>male</td>\n",
       "      <td>NaN</td>\n",
       "      <td>0</td>\n",
       "      <td>0</td>\n",
       "      <td>368703</td>\n",
       "      <td>7.750</td>\n",
       "      <td>NaN</td>\n",
       "      <td>Q</td>\n",
       "    </tr>\n",
       "  </tbody>\n",
       "</table>\n",
       "</div>"
      ],
      "text/plain": [
       "     PassengerId  Survived  Pclass                                   Name  \\\n",
       "246          247         0       3  Lindahl, Miss. Agda Thorilda Viktoria   \n",
       "196          197         0       3                    Mernagh, Mr. Robert   \n",
       "\n",
       "        Sex   Age  SibSp  Parch  Ticket   Fare Cabin Embarked  \n",
       "246  female  25.0      0      0  347071  7.775   NaN        S  \n",
       "196    male   NaN      0      0  368703  7.750   NaN        Q  "
      ]
     },
     "execution_count": 3,
     "metadata": {},
     "output_type": "execute_result"
    }
   ],
   "source": [
    "tdf.sample(2)"
   ]
  },
  {
   "cell_type": "code",
   "execution_count": 4,
   "id": "ce15b7fc",
   "metadata": {},
   "outputs": [],
   "source": [
    "from sklearn.model_selection import train_test_split\n",
    "from sklearn.impute import SimpleImputer\n",
    "from sklearn.preprocessing import OrdinalEncoder\n",
    "from sklearn.preprocessing import OneHotEncoder\n",
    "from sklearn.preprocessing import MinMaxScaler\n",
    "from sklearn.tree import DecisionTreeClassifier"
   ]
  },
  {
   "cell_type": "code",
   "execution_count": 5,
   "id": "82249a76",
   "metadata": {},
   "outputs": [],
   "source": [
    "tdf.drop(columns=['PassengerId','Name','Ticket','Cabin'],inplace=True)"
   ]
  },
  {
   "cell_type": "code",
   "execution_count": 6,
   "id": "d1cf472a",
   "metadata": {},
   "outputs": [
    {
     "data": {
      "text/html": [
       "<div>\n",
       "<style scoped>\n",
       "    .dataframe tbody tr th:only-of-type {\n",
       "        vertical-align: middle;\n",
       "    }\n",
       "\n",
       "    .dataframe tbody tr th {\n",
       "        vertical-align: top;\n",
       "    }\n",
       "\n",
       "    .dataframe thead th {\n",
       "        text-align: right;\n",
       "    }\n",
       "</style>\n",
       "<table border=\"1\" class=\"dataframe\">\n",
       "  <thead>\n",
       "    <tr style=\"text-align: right;\">\n",
       "      <th></th>\n",
       "      <th>Survived</th>\n",
       "      <th>Pclass</th>\n",
       "      <th>Sex</th>\n",
       "      <th>Age</th>\n",
       "      <th>SibSp</th>\n",
       "      <th>Parch</th>\n",
       "      <th>Fare</th>\n",
       "      <th>Embarked</th>\n",
       "    </tr>\n",
       "  </thead>\n",
       "  <tbody>\n",
       "    <tr>\n",
       "      <th>0</th>\n",
       "      <td>0</td>\n",
       "      <td>3</td>\n",
       "      <td>male</td>\n",
       "      <td>22.0</td>\n",
       "      <td>1</td>\n",
       "      <td>0</td>\n",
       "      <td>7.2500</td>\n",
       "      <td>S</td>\n",
       "    </tr>\n",
       "    <tr>\n",
       "      <th>1</th>\n",
       "      <td>1</td>\n",
       "      <td>1</td>\n",
       "      <td>female</td>\n",
       "      <td>38.0</td>\n",
       "      <td>1</td>\n",
       "      <td>0</td>\n",
       "      <td>71.2833</td>\n",
       "      <td>C</td>\n",
       "    </tr>\n",
       "    <tr>\n",
       "      <th>2</th>\n",
       "      <td>1</td>\n",
       "      <td>3</td>\n",
       "      <td>female</td>\n",
       "      <td>26.0</td>\n",
       "      <td>0</td>\n",
       "      <td>0</td>\n",
       "      <td>7.9250</td>\n",
       "      <td>S</td>\n",
       "    </tr>\n",
       "    <tr>\n",
       "      <th>3</th>\n",
       "      <td>1</td>\n",
       "      <td>1</td>\n",
       "      <td>female</td>\n",
       "      <td>35.0</td>\n",
       "      <td>1</td>\n",
       "      <td>0</td>\n",
       "      <td>53.1000</td>\n",
       "      <td>S</td>\n",
       "    </tr>\n",
       "    <tr>\n",
       "      <th>4</th>\n",
       "      <td>0</td>\n",
       "      <td>3</td>\n",
       "      <td>male</td>\n",
       "      <td>35.0</td>\n",
       "      <td>0</td>\n",
       "      <td>0</td>\n",
       "      <td>8.0500</td>\n",
       "      <td>S</td>\n",
       "    </tr>\n",
       "  </tbody>\n",
       "</table>\n",
       "</div>"
      ],
      "text/plain": [
       "   Survived  Pclass     Sex   Age  SibSp  Parch     Fare Embarked\n",
       "0         0       3    male  22.0      1      0   7.2500        S\n",
       "1         1       1  female  38.0      1      0  71.2833        C\n",
       "2         1       3  female  26.0      0      0   7.9250        S\n",
       "3         1       1  female  35.0      1      0  53.1000        S\n",
       "4         0       3    male  35.0      0      0   8.0500        S"
      ]
     },
     "execution_count": 6,
     "metadata": {},
     "output_type": "execute_result"
    }
   ],
   "source": [
    "tdf.head()"
   ]
  },
  {
   "cell_type": "code",
   "execution_count": 7,
   "id": "4161cc78",
   "metadata": {},
   "outputs": [],
   "source": [
    "# strp 1 -> train/test/split\n",
    "x_train,x_test,y_train,y_test = train_test_split(tdf.drop(columns=['Survived']),\n",
    "                                                tdf['Survived'],\n",
    "                                                test_size=0.2,\n",
    "                                                random_state=42)"
   ]
  },
  {
   "cell_type": "code",
   "execution_count": 8,
   "id": "ee81a7fe",
   "metadata": {},
   "outputs": [
    {
     "data": {
      "text/html": [
       "<div>\n",
       "<style scoped>\n",
       "    .dataframe tbody tr th:only-of-type {\n",
       "        vertical-align: middle;\n",
       "    }\n",
       "\n",
       "    .dataframe tbody tr th {\n",
       "        vertical-align: top;\n",
       "    }\n",
       "\n",
       "    .dataframe thead th {\n",
       "        text-align: right;\n",
       "    }\n",
       "</style>\n",
       "<table border=\"1\" class=\"dataframe\">\n",
       "  <thead>\n",
       "    <tr style=\"text-align: right;\">\n",
       "      <th></th>\n",
       "      <th>Pclass</th>\n",
       "      <th>Sex</th>\n",
       "      <th>Age</th>\n",
       "      <th>SibSp</th>\n",
       "      <th>Parch</th>\n",
       "      <th>Fare</th>\n",
       "      <th>Embarked</th>\n",
       "    </tr>\n",
       "  </thead>\n",
       "  <tbody>\n",
       "    <tr>\n",
       "      <th>331</th>\n",
       "      <td>1</td>\n",
       "      <td>male</td>\n",
       "      <td>45.5</td>\n",
       "      <td>0</td>\n",
       "      <td>0</td>\n",
       "      <td>28.500</td>\n",
       "      <td>S</td>\n",
       "    </tr>\n",
       "    <tr>\n",
       "      <th>733</th>\n",
       "      <td>2</td>\n",
       "      <td>male</td>\n",
       "      <td>23.0</td>\n",
       "      <td>0</td>\n",
       "      <td>0</td>\n",
       "      <td>13.000</td>\n",
       "      <td>S</td>\n",
       "    </tr>\n",
       "    <tr>\n",
       "      <th>382</th>\n",
       "      <td>3</td>\n",
       "      <td>male</td>\n",
       "      <td>32.0</td>\n",
       "      <td>0</td>\n",
       "      <td>0</td>\n",
       "      <td>7.925</td>\n",
       "      <td>S</td>\n",
       "    </tr>\n",
       "  </tbody>\n",
       "</table>\n",
       "</div>"
      ],
      "text/plain": [
       "     Pclass   Sex   Age  SibSp  Parch    Fare Embarked\n",
       "331       1  male  45.5      0      0  28.500        S\n",
       "733       2  male  23.0      0      0  13.000        S\n",
       "382       3  male  32.0      0      0   7.925        S"
      ]
     },
     "execution_count": 8,
     "metadata": {},
     "output_type": "execute_result"
    }
   ],
   "source": [
    "x_train.head(3)"
   ]
  },
  {
   "cell_type": "code",
   "execution_count": 9,
   "id": "c3370b30",
   "metadata": {},
   "outputs": [
    {
     "data": {
      "text/plain": [
       "331    0\n",
       "733    0\n",
       "382    0\n",
       "704    0\n",
       "813    0\n",
       "      ..\n",
       "106    1\n",
       "270    0\n",
       "860    0\n",
       "435    1\n",
       "102    0\n",
       "Name: Survived, Length: 712, dtype: int64"
      ]
     },
     "execution_count": 9,
     "metadata": {},
     "output_type": "execute_result"
    }
   ],
   "source": [
    "y_train"
   ]
  },
  {
   "cell_type": "code",
   "execution_count": 10,
   "id": "fa92cb62",
   "metadata": {},
   "outputs": [
    {
     "data": {
      "text/plain": [
       "Survived      0\n",
       "Pclass        0\n",
       "Sex           0\n",
       "Age         177\n",
       "SibSp         0\n",
       "Parch         0\n",
       "Fare          0\n",
       "Embarked      2\n",
       "dtype: int64"
      ]
     },
     "execution_count": 10,
     "metadata": {},
     "output_type": "execute_result"
    }
   ],
   "source": [
    "tdf.isnull().sum()"
   ]
  },
  {
   "cell_type": "markdown",
   "id": "74936e38",
   "metadata": {},
   "source": [
    "### applying imputer to fill the missing value"
   ]
  },
  {
   "cell_type": "code",
   "execution_count": 11,
   "id": "62f1c577",
   "metadata": {},
   "outputs": [],
   "source": [
    "si_age = SimpleImputer()\n",
    "si_embarked = SimpleImputer(strategy='most_frequent')\n",
    "\n",
    "x_train_age = si_age.fit_transform(x_train[['Age']])\n",
    "x_train_embarked = si_embarked.fit_transform(x_train[['Embarked']])\n",
    "\n",
    "x_test_age = si_age.fit_transform(x_test[['Age']])\n",
    "x_test_embarked = si_embarked.fit_transform(x_test[['Embarked']])\n"
   ]
  },
  {
   "cell_type": "code",
   "execution_count": 20,
   "id": "e5cd1e6f",
   "metadata": {},
   "outputs": [],
   "source": [
    "#x_train_age"
   ]
  },
  {
   "cell_type": "code",
   "execution_count": 19,
   "id": "069e11cf",
   "metadata": {},
   "outputs": [],
   "source": [
    "#x_test_embarked"
   ]
  },
  {
   "cell_type": "markdown",
   "id": "67f324ab",
   "metadata": {},
   "source": [
    "### Onehotencoding"
   ]
  },
  {
   "cell_type": "code",
   "execution_count": 12,
   "id": "bf1f0a52",
   "metadata": {},
   "outputs": [],
   "source": [
    "ohe_Sex = OneHotEncoder(sparse=False,handle_unknown = 'ignore')\n",
    "ohe_Embarked = OneHotEncoder(sparse=False,handle_unknown = 'ignore')\n",
    "\n",
    "x_train_sex = ohe_Sex.fit_transform(x_train[['Sex']])\n",
    "x_train_embarked = ohe_Embarked.fit_transform(x_train_embarked)\n",
    "\n",
    "x_test_sex = ohe_Sex.fit_transform(x_test[['Sex']])\n",
    "x_test_embarked = ohe_Embarked.fit_transform(x_test_embarked)"
   ]
  },
  {
   "cell_type": "code",
   "execution_count": 14,
   "id": "221ba28e",
   "metadata": {
    "scrolled": false
   },
   "outputs": [],
   "source": [
    "# x_test_embarked"
   ]
  },
  {
   "cell_type": "code",
   "execution_count": 15,
   "id": "2ba97fee",
   "metadata": {},
   "outputs": [],
   "source": [
    "x_train_rem = x_train.drop(columns=['Sex','Age','Embarked'])"
   ]
  },
  {
   "cell_type": "code",
   "execution_count": 16,
   "id": "1e5f6e15",
   "metadata": {},
   "outputs": [],
   "source": [
    "x_test_rem = x_test.drop(columns=['Sex','Age','Embarked'])"
   ]
  },
  {
   "cell_type": "code",
   "execution_count": 17,
   "id": "34766de0",
   "metadata": {},
   "outputs": [],
   "source": [
    "x_train_transfromed = np.concatenate((x_train_rem,x_train_age,x_train_sex,x_train_embarked),axis = 1)\n",
    "x_test_transfromed = np.concatenate((x_test_rem,x_test_age,x_test_sex,x_test_embarked),axis = 1)"
   ]
  },
  {
   "cell_type": "code",
   "execution_count": 19,
   "id": "23e2f050",
   "metadata": {},
   "outputs": [
    {
     "data": {
      "text/plain": [
       "array([[1., 0., 0., ..., 0., 0., 1.],\n",
       "       [2., 0., 0., ..., 0., 0., 1.],\n",
       "       [3., 0., 0., ..., 0., 0., 1.],\n",
       "       ...,\n",
       "       [3., 2., 0., ..., 0., 0., 1.],\n",
       "       [1., 1., 2., ..., 0., 0., 1.],\n",
       "       [1., 0., 1., ..., 0., 0., 1.]])"
      ]
     },
     "execution_count": 19,
     "metadata": {},
     "output_type": "execute_result"
    }
   ],
   "source": [
    "x_train_transfromed"
   ]
  },
  {
   "cell_type": "code",
   "execution_count": 20,
   "id": "6c60520d",
   "metadata": {},
   "outputs": [
    {
     "data": {
      "text/plain": [
       "(712, 10)"
      ]
     },
     "execution_count": 20,
     "metadata": {},
     "output_type": "execute_result"
    }
   ],
   "source": [
    "x_train_transfromed.shape"
   ]
  },
  {
   "cell_type": "code",
   "execution_count": 21,
   "id": "c2fc7c99",
   "metadata": {},
   "outputs": [
    {
     "data": {
      "text/plain": [
       "array([[3., 1., 1., ..., 1., 0., 0.],\n",
       "       [2., 0., 0., ..., 0., 0., 1.],\n",
       "       [3., 0., 0., ..., 0., 0., 1.],\n",
       "       ...,\n",
       "       [3., 1., 5., ..., 0., 0., 1.],\n",
       "       [2., 0., 0., ..., 0., 0., 1.],\n",
       "       [3., 1., 1., ..., 0., 0., 1.]])"
      ]
     },
     "execution_count": 21,
     "metadata": {},
     "output_type": "execute_result"
    }
   ],
   "source": [
    "x_test_transfromed"
   ]
  },
  {
   "cell_type": "code",
   "execution_count": 22,
   "id": "84a62ea1",
   "metadata": {},
   "outputs": [
    {
     "data": {
      "text/plain": [
       "(179, 10)"
      ]
     },
     "execution_count": 22,
     "metadata": {},
     "output_type": "execute_result"
    }
   ],
   "source": [
    "x_test_transfromed.shape"
   ]
  },
  {
   "cell_type": "code",
   "execution_count": 18,
   "id": "898562f9",
   "metadata": {},
   "outputs": [
    {
     "data": {
      "text/plain": [
       "DecisionTreeClassifier()"
      ]
     },
     "execution_count": 18,
     "metadata": {},
     "output_type": "execute_result"
    }
   ],
   "source": [
    "clf = DecisionTreeClassifier()\n",
    "clf.fit(x_train_transfromed,y_train)"
   ]
  },
  {
   "cell_type": "code",
   "execution_count": 23,
   "id": "99da878a",
   "metadata": {},
   "outputs": [],
   "source": [
    "y_pred = clf.predict(x_test_transfromed)"
   ]
  },
  {
   "cell_type": "code",
   "execution_count": 25,
   "id": "57a5ca9c",
   "metadata": {},
   "outputs": [
    {
     "data": {
      "text/plain": [
       "array([0, 1, 1, 1, 1, 1, 1, 0, 1, 1, 0, 0, 0, 0, 0, 1, 0, 1, 0, 0, 0, 0,\n",
       "       0, 0, 1, 0, 0, 1, 0, 0, 0, 1, 1, 1, 0, 0, 1, 1, 1, 1, 0, 1, 1, 0,\n",
       "       0, 0, 0, 0, 1, 0, 1, 1, 0, 1, 1, 1, 1, 0, 1, 0, 1, 1, 1, 0, 0, 1,\n",
       "       0, 0, 0, 1, 1, 1, 1, 1, 0, 0, 1, 1, 1, 1, 0, 1, 1, 0, 1, 0, 1, 1,\n",
       "       0, 0, 1, 0, 0, 0, 1, 0, 1, 0, 1, 0, 0, 0, 1, 0, 0, 1, 1, 0, 0, 0,\n",
       "       1, 0, 1, 1, 0, 0, 0, 0, 1, 0, 0, 1, 1, 1, 0, 0, 1, 1, 0, 0, 1, 0,\n",
       "       0, 1, 1, 0, 1, 0, 0, 0, 0, 1, 0, 0, 0, 1, 0, 1, 1, 0, 0, 1, 0, 0,\n",
       "       1, 0, 0, 1, 1, 1, 0, 0, 0, 1, 1, 0, 0, 1, 0, 0, 0, 1, 1, 1, 0, 0,\n",
       "       0, 1, 1], dtype=int64)"
      ]
     },
     "execution_count": 25,
     "metadata": {},
     "output_type": "execute_result"
    }
   ],
   "source": [
    "y_pred"
   ]
  },
  {
   "cell_type": "code",
   "execution_count": 27,
   "id": "84f05285",
   "metadata": {},
   "outputs": [
    {
     "data": {
      "text/plain": [
       "0.7430167597765364"
      ]
     },
     "execution_count": 27,
     "metadata": {},
     "output_type": "execute_result"
    }
   ],
   "source": [
    "from sklearn.metrics import accuracy_score\n",
    "accuracy_score(y_test,y_pred)"
   ]
  },
  {
   "cell_type": "code",
   "execution_count": 28,
   "id": "c74d1ced",
   "metadata": {},
   "outputs": [],
   "source": [
    "import pickle"
   ]
  },
  {
   "cell_type": "code",
   "execution_count": null,
   "id": "b7d437e9",
   "metadata": {},
   "outputs": [],
   "source": []
  },
  {
   "cell_type": "code",
   "execution_count": null,
   "id": "b813c1a7",
   "metadata": {},
   "outputs": [],
   "source": []
  },
  {
   "cell_type": "code",
   "execution_count": null,
   "id": "bde851f6",
   "metadata": {},
   "outputs": [],
   "source": []
  },
  {
   "cell_type": "code",
   "execution_count": null,
   "id": "f789bb09",
   "metadata": {},
   "outputs": [],
   "source": []
  }
 ],
 "metadata": {
  "kernelspec": {
   "display_name": "Python 3 (ipykernel)",
   "language": "python",
   "name": "python3"
  },
  "language_info": {
   "codemirror_mode": {
    "name": "ipython",
    "version": 3
   },
   "file_extension": ".py",
   "mimetype": "text/x-python",
   "name": "python",
   "nbconvert_exporter": "python",
   "pygments_lexer": "ipython3",
   "version": "3.9.12"
  }
 },
 "nbformat": 4,
 "nbformat_minor": 5
}
